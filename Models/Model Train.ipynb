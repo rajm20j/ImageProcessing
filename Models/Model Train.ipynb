{
 "cells": [
  {
   "cell_type": "code",
   "execution_count": 1,
   "metadata": {},
   "outputs": [],
   "source": [
    "import tensorflow as tf\n",
    "import numpy as np\n",
    "import matplotlib.pyplot as plt\n",
    "from tensorflow.keras.models import Sequential\n",
    "from tensorflow.keras.layers import Dense, Dropout, Activation, Flatten, Reshape, add\n",
    "from tensorflow.keras.layers import Conv2D, MaxPooling2D, UpSampling2D, Conv2DTranspose\n",
    "from tensorflow.keras import regularizers\n",
    "from skimage.util import random_noise\n",
    "import cv2\n",
    "import keras\n",
    "import os\n",
    "from PIL import Image\n",
    "import datetime\n",
    "from tensorflow.keras.callbacks import TensorBoard\n",
    "from keras.models import model_from_json"
   ]
  },
  {
   "cell_type": "code",
   "execution_count": 2,
   "metadata": {},
   "outputs": [],
   "source": [
    "PATH=r'C:\\Users\\Pratham Agarwal\\Desktop\\Major Project\\datasetV2\\clean'\n",
    "PATH2=r'C:\\Users\\Pratham Agarwal\\Desktop\\Major Project\\datasetV2\\smudged'\n",
    "directory=os.listdir(PATH)\n",
    "directory2=os.listdir(PATH2)\n",
    "directory.sort()\n",
    "directory2.sort()"
   ]
  },
  {
   "cell_type": "code",
   "execution_count": 3,
   "metadata": {},
   "outputs": [],
   "source": [
    "X_train=[]\n",
    "for file in directory:\n",
    "    img=cv2.imread(\"{}/{}\".format(PATH,file),0)\n",
    "    # print(img)\n",
    "    try:\n",
    "      # img=cv2.resize(img)\n",
    "      X_train.append(img)\n",
    "    except:\n",
    "      pass"
   ]
  },
  {
   "cell_type": "code",
   "execution_count": 4,
   "metadata": {},
   "outputs": [
    {
     "data": {
      "text/plain": [
       "(1044, 256, 256)"
      ]
     },
     "execution_count": 4,
     "metadata": {},
     "output_type": "execute_result"
    }
   ],
   "source": [
    "X_train=np.array(X_train)\n",
    "X_train.shape"
   ]
  },
  {
   "cell_type": "code",
   "execution_count": 5,
   "metadata": {},
   "outputs": [],
   "source": [
    "y_train=[]\n",
    "for file in directory2:\n",
    "    # print(file)\n",
    "    img=cv2.imread(\"{}/{}\".format(PATH2,file),0)\n",
    "    # print(img)\n",
    "    try:\n",
    "      # img=cv2.resize(img)\n",
    "      y_train.append(img)\n",
    "    except:\n",
    "      pass"
   ]
  },
  {
   "cell_type": "code",
   "execution_count": 6,
   "metadata": {},
   "outputs": [
    {
     "data": {
      "text/plain": [
       "(1044, 256, 256)"
      ]
     },
     "execution_count": 6,
     "metadata": {},
     "output_type": "execute_result"
    }
   ],
   "source": [
    "y_train=np.array(y_train)\n",
    "y_train.shape"
   ]
  },
  {
   "cell_type": "code",
   "execution_count": 7,
   "metadata": {},
   "outputs": [],
   "source": [
    "X_train = X_train/255.0\n",
    "y_train=y_train/255.0"
   ]
  },
  {
   "cell_type": "code",
   "execution_count": 8,
   "metadata": {},
   "outputs": [],
   "source": [
    "shape=X_train.shape"
   ]
  },
  {
   "cell_type": "code",
   "execution_count": 9,
   "metadata": {},
   "outputs": [],
   "source": [
    "X_train=X_train.reshape(shape[0],shape[1],shape[2],1)\n",
    "y_train=y_train.reshape(shape[0],shape[1],shape[2],1)"
   ]
  },
  {
   "cell_type": "code",
   "execution_count": null,
   "metadata": {},
   "outputs": [],
   "source": []
  },
  {
   "cell_type": "code",
   "execution_count": null,
   "metadata": {},
   "outputs": [],
   "source": [
    "layers=[2,3]\n",
    "nodes=[32,64,128]"
   ]
  },
  {
   "cell_type": "code",
   "execution_count": null,
   "metadata": {},
   "outputs": [],
   "source": [
    "for l in layers:\n",
    "  model=Sequential()\n",
    "  input_img = keras.Input(shape=(256, 256, 1))\n",
    "    #encoder\n",
    "  for n1 in range(0,3):\n",
    "    x = Conv2D(nodes[n1], (3, 3), activation='relu', padding='same')(input_img)\n",
    "    x = MaxPooling2D((2, 2), padding='same')(x)\n",
    "    # print(nodes[n1])\n",
    "    for n2 in range(0,3):\n",
    "      y = Conv2D(nodes[n2], (3, 3), activation='relu', padding='same')(x)\n",
    "      y = MaxPooling2D((2, 2), padding='same')(y)\n",
    "      if l==3:\n",
    "        for n3 in range(0,3):\n",
    "          z = Conv2D(nodes[n3], (3, 3), activation='relu', padding='same')(y)\n",
    "          z = MaxPooling2D((2, 2), padding='same')(z)\n",
    "          z = Conv2D(nodes[n3], (3, 3), activation='relu', padding='same')(z)\n",
    "          z = UpSampling2D((2, 2))(z)\n",
    "          z = Conv2D(nodes[n2], (3, 3), activation='relu', padding='same')(z)\n",
    "          z = UpSampling2D((2, 2))(z)\n",
    "          z = Conv2D(nodes[n1], (3, 3), activation='relu', padding='same')(z)\n",
    "          z = UpSampling2D((2, 2))(z)\n",
    "          decoded = Conv2D(1, (3, 3), activation='sigmoid',padding='same')(z)\n",
    "\n",
    "          autoencoder = keras.Model(input_img, decoded)\n",
    "          autoencoder.compile(optimizer='adamax', loss='binary_crossentropy')\n",
    "          autoencoder.summary()\n",
    "          autoencoder.fit(y_train[350:500], X_train[350:500],epochs=5,batch_size=16,shuffle=True)\n",
    "      else:\n",
    "        z = Conv2D(nodes[n2], (3, 3), activation='relu', padding='same')(y)\n",
    "        z = UpSampling2D((2, 2))(z)\n",
    "        a = Conv2D(nodes[n1], (3, 3), activation='relu', padding='same')(z)\n",
    "        a = UpSampling2D((2, 2))(a)\n",
    "        decoded = Conv2D(1, (3, 3), activation='sigmoid',padding='same')(a)\n",
    "\n",
    "        autoencoder = keras.Model(input_img, decoded)\n",
    "        autoencoder.compile(optimizer='adamax', loss='mse')\n",
    "        autoencoder.summary()\n",
    "        autoencoder.fit(y_train[350:500], X_train[350:500],epochs=5,batch_size=16,shuffle=True)\n"
   ]
  },
  {
   "cell_type": "code",
   "execution_count": null,
   "metadata": {},
   "outputs": [],
   "source": []
  }
 ],
 "metadata": {
  "kernelspec": {
   "display_name": "Python 3",
   "language": "python",
   "name": "python3"
  },
  "language_info": {
   "codemirror_mode": {
    "name": "ipython",
    "version": 3
   },
   "file_extension": ".py",
   "mimetype": "text/x-python",
   "name": "python",
   "nbconvert_exporter": "python",
   "pygments_lexer": "ipython3",
   "version": "3.8.5"
  }
 },
 "nbformat": 4,
 "nbformat_minor": 4
}
